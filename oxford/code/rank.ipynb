{
 "cells": [
  {
   "cell_type": "code",
   "execution_count": 1,
   "metadata": {},
   "outputs": [],
   "source": [
    "%matplotlib inline"
   ]
  },
  {
   "cell_type": "code",
   "execution_count": 2,
   "metadata": {},
   "outputs": [],
   "source": [
    "import numpy as np\n",
    "import matplotlib.pyplot as plt\n",
    "import starry\n",
    "\n",
    "starry.config.lazy = False"
   ]
  },
  {
   "cell_type": "code",
   "execution_count": 3,
   "metadata": {},
   "outputs": [
    {
     "name": "stdout",
     "output_type": "stream",
     "text": [
      "1.0.0\n"
     ]
    }
   ],
   "source": [
    "print(starry.__version__)"
   ]
  },
  {
   "cell_type": "code",
   "execution_count": 4,
   "metadata": {},
   "outputs": [
    {
     "name": "stderr",
     "output_type": "stream",
     "text": [
      "Differential rotation is still an experimental feature. Use it with care.\n",
      "Pre-computing some matrices... Done.\n"
     ]
    }
   ],
   "source": [
    "# Regular maps\n",
    "map = starry.Map(ydeg=6, udeg=2, drorder=1)\n",
    "npts = 1000\n",
    "\n",
    "def get_rank(inc=90, u=[0, 0], alpha=0.0, **kwargs):\n",
    "    map.inc = inc\n",
    "    map[1:] = u\n",
    "    map.alpha = alpha\n",
    "    A = map.design_matrix(**kwargs)\n",
    "    return np.linalg.matrix_rank(A.T.dot(A))"
   ]
  },
  {
   "cell_type": "code",
   "execution_count": 5,
   "metadata": {},
   "outputs": [
    {
     "name": "stderr",
     "output_type": "stream",
     "text": [
      "Pre-computing some matrices... Done.\n",
      "Compiling `X`... Done.\n",
      "/opt/anaconda3/lib/python3.7/site-packages/theano/tensor/subtensor.py:2197: FutureWarning: Using a non-tuple sequence for multidimensional indexing is deprecated; use `arr[tuple(seq)]` instead of `arr[seq]`. In the future this will be interpreted as an array index, `arr[np.array(seq)]`, which will result either in an error or a different result.\n",
      "  rval = inputs[0].__getitem__(inputs[1:])\n"
     ]
    }
   ],
   "source": [
    "# Reflected light maps\n",
    "rmap = starry.Map(ydeg=6, reflected=True)\n",
    "rmap.inc = 60\n",
    "phase = np.linspace(0, 360, npts)\n",
    "xs, ys, zs = [np.sin(np.pi / 180 * phase), np.zeros_like(phase), np.cos(np.pi / 180 * phase)]\n",
    "theta = np.linspace(0, 365.25 * 360, npts)\n",
    "A = rmap.design_matrix(theta=theta, xs=xs, ys=ys, zs=zs)\n",
    "rank_reflected = np.linalg.matrix_rank(A.T.dot(A))"
   ]
  },
  {
   "cell_type": "code",
   "execution_count": 6,
   "metadata": {},
   "outputs": [],
   "source": [
    "# Doppler maps\n",
    "# Need to run as a subprocess b/c starry.config.lazy = True\n",
    "code = \\\n",
    "\"\"\"\n",
    "from scipy.sparse import block_diag\n",
    "import paparazzi as pp\n",
    "import numpy as np\n",
    "dop = pp.Doppler(ydeg=6, inc=60)\n",
    "dop.generate_data()  \n",
    "V = block_diag([dop.s_true.reshape(-1, 1) for n in range(dop.N)])\n",
    "A = np.array(dop.D().dot(V).todense())\n",
    "print(np.linalg.matrix_rank(A.T.dot(A)))\n",
    "\"\"\"\n",
    "code = (\"; \").join(code.split(\"\\n\")[1:-1])\n",
    "import subprocess\n",
    "rank_doppler = int(subprocess.check_output([\"python\", \"-c\", code])[-3:])"
   ]
  },
  {
   "cell_type": "code",
   "execution_count": 7,
   "metadata": {},
   "outputs": [],
   "source": [
    "params = {\n",
    "    \"phase curve\": {\n",
    "        \"edge-on\": dict(theta=np.linspace(0, 360, npts)),\n",
    "        \"inclined\": dict(inc=60, theta=np.linspace(0, 360, npts)),\n",
    "        \"edge-on, diff. rot.\": dict(alpha=0.1, theta=np.linspace(0, 360, npts)),\n",
    "        \"inclined, diff. rot.\": dict(\n",
    "            inc=60, alpha=0.1, theta=np.linspace(0, 360, npts)\n",
    "        ),\n",
    "    },\n",
    "    \"transit\": {\n",
    "        \"r=0.01, b=0\": dict(ro=0.01, xo=np.linspace(-1.5, 1.5, npts)),\n",
    "        \"r=0.01, b=0.75\": dict(\n",
    "            ro=0.01, xo=np.linspace(-1.5, 1.5, npts), yo=0.75\n",
    "        ),\n",
    "        \"r=0.25, b=0\": dict(ro=0.25, xo=np.linspace(-1.5, 1.5, npts)),\n",
    "        \"r=0.25, b=0.75\": dict(\n",
    "            ro=0.25, xo=np.linspace(-1.5, 1.5, npts), yo=0.75\n",
    "        ),\n",
    "    },\n",
    "    \"transit + phase curve\": {\n",
    "        \"r=0.01, b=0\": dict(\n",
    "            ro=0.01, xo=np.linspace(-1.5, 1.5, npts), theta=np.linspace(0, 360, npts)\n",
    "        ),\n",
    "        \"r=0.01, b=0.75\": dict(\n",
    "            ro=0.01,\n",
    "            xo=np.linspace(-1.5, 1.5, npts),\n",
    "            yo=0.75,\n",
    "            theta=np.linspace(0, 360, npts),\n",
    "        ),\n",
    "        \"r=0.25, b=0\": dict(\n",
    "            ro=0.25, xo=np.linspace(-1.5, 1.5, npts), theta=np.linspace(0, 360, npts)\n",
    "        ),\n",
    "        \"r=0.25, b=0.75\": dict(\n",
    "            ro=0.25,\n",
    "            xo=np.linspace(-1.5, 1.5, npts),\n",
    "            yo=0.75,\n",
    "            theta=np.linspace(0, 360, npts),\n",
    "        ),\n",
    "    },\n",
    "    \"occultation\": {\n",
    "        \"r=1, b=1.75\": dict(ro=1, xo=np.linspace(-2.5, 2.5, npts), yo=1.75),\n",
    "        \"r=10, b=0.01\": dict(ro=10, xo=np.linspace(-11, 11, npts), yo=0.01),\n",
    "        \"r=10, b=8\": dict(ro=10, xo=np.linspace(-11, 11, npts), yo=8),\n",
    "        \"r=1, b=0.01\": dict(\n",
    "            ro=1, xo=np.linspace(-2.5, 2.5, npts), yo=0.01\n",
    "        )\n",
    "    },\n",
    "    \"occultation + phase curve\": {\n",
    "        \"r=1, b=1.75\": dict(\n",
    "            ro=1,\n",
    "            xo=np.linspace(-2.5, 2.5, npts),\n",
    "            yo=1.75,\n",
    "            theta=np.linspace(0, 360, npts),\n",
    "        ),\n",
    "        \"r=10, b=0.01\": dict(\n",
    "            ro=10,\n",
    "            xo=np.linspace(-11, 11, npts),\n",
    "            yo=0.01,\n",
    "            theta=np.linspace(0, 360, npts),\n",
    "        ),\n",
    "        \"r=10, b=8\": dict(\n",
    "            ro=10, xo=np.linspace(-11, 11, npts), yo=8, theta=np.linspace(0, 360, npts)\n",
    "        ),\n",
    "        \"r=1, b=0.01\": dict(\n",
    "            ro=1,\n",
    "            xo=np.linspace(-2.5, 2.5, npts),\n",
    "            yo=0.01,\n",
    "            theta=np.linspace(0, 360, npts),\n",
    "        ),\n",
    "    },\n",
    "}"
   ]
  },
  {
   "cell_type": "code",
   "execution_count": 8,
   "metadata": {},
   "outputs": [
    {
     "name": "stderr",
     "output_type": "stream",
     "text": [
      "Compiling `X`... Done.\n",
      "/opt/anaconda3/lib/python3.7/site-packages/theano/tensor/subtensor.py:2197: FutureWarning: Using a non-tuple sequence for multidimensional indexing is deprecated; use `arr[tuple(seq)]` instead of `arr[seq]`. In the future this will be interpreted as an array index, `arr[np.array(seq)]`, which will result either in an error or a different result.\n",
      "  rval = inputs[0].__getitem__(inputs[1:])\n"
     ]
    }
   ],
   "source": [
    "# Compute the ranks\n",
    "category = []\n",
    "description = []\n",
    "rank = []\n",
    "for cat, p in params.items():\n",
    "    for desc, kwargs in p.items():\n",
    "        category.append(cat)\n",
    "        description.append(desc)\n",
    "        rank.append(get_rank(**kwargs))\n",
    "    category.append(\"\")\n",
    "    description.append(\"\")\n",
    "    rank.append(np.nan)\n",
    "\n",
    "# Append the *doppler* rank\n",
    "category.append(\"doppler\")\n",
    "description.append(\"doppler\")\n",
    "rank.append(rank_doppler)\n",
    "    \n",
    "# Append the *reflected light* rank\n",
    "category.append(\"reflected\")\n",
    "description.append(\"reflected\")\n",
    "rank.append(rank_reflected)\n",
    "\n",
    "# Numpyfy\n",
    "rank = np.array(rank)\n",
    "category = np.array(category)\n",
    "description = np.array(description)"
   ]
  },
  {
   "cell_type": "code",
   "execution_count": 9,
   "metadata": {},
   "outputs": [],
   "source": [
    "def color(category):\n",
    "    color = []\n",
    "    for cat in category:\n",
    "        if cat == \"phase curve\":\n",
    "            color.append(\"C0\")\n",
    "        elif cat == \"transit\":\n",
    "            color.append(\"C1\")\n",
    "        elif cat == \"transit + phase curve\":\n",
    "            color.append(\"C2\")\n",
    "        elif cat == \"occultation\":\n",
    "            color.append(\"C3\")\n",
    "        elif cat == \"occultation + phase curve\":\n",
    "            color.append(\"C4\")\n",
    "        elif cat == \"doppler\":\n",
    "            color.append(\"C6\")\n",
    "        elif cat == \"reflected\":\n",
    "            color.append(\"C6\")\n",
    "        else:\n",
    "            color.append(\"C6\")\n",
    "    return color"
   ]
  },
  {
   "cell_type": "code",
   "execution_count": 20,
   "metadata": {},
   "outputs": [
    {
     "data": {
      "image/png": "[encoded data removed]",
      "text/plain": [
       "<Figure size 648x288 with 1 Axes>"
      ]
     },
     "metadata": {
      "needs_background": "light"
     },
     "output_type": "display_data"
    }
   ],
   "source": [
    "fig, ax = plt.subplots(1, figsize=(9, 4))\n",
    "info = rank / map.Ny\n",
    "indices = np.arange(len(info))\n",
    "inds = [slice(0, 4), slice(5, 9), slice(10, 14), slice(15, 19), slice(20, 24), [25, 25], [26, 26]]\n",
    "\n",
    "color = [\"C0\", \"C1\", \"C2\", \"C3\", \"C4\", \"C6\", \"C7\"]\n",
    "labels = [\"rotation\", \"transit\", \"rotation + transit\", \"occultation\", \"rotation + occultation\", \"reflected light\", \"doppler imaging\"]\n",
    "for n, i in enumerate(inds):\n",
    "    ax.plot(n, np.mean(info[i]), \"o\", color=color[n], ms=10)\n",
    "    yerr = 0.5 * (np.max(info[i]) - np.min(info[i]))\n",
    "    if yerr == 0:\n",
    "        # hack\n",
    "        yerr = np.array([[0.1], [0]])\n",
    "    ax.errorbar(n, np.mean(info[i]), yerr=yerr, color=color[n], capsize=5)\n",
    "\n",
    "ax.axhline(1.0, color=\"k\", ls=\"--\", lw=1)\n",
    "ax.set_ylim(0, 1.1)\n",
    "ax.set_xticks(range(7))\n",
    "ax.set_xticklabels(labels, rotation=45, ha=\"right\", fontsize=14);\n",
    "ax.set_ylabel(\"Information available\", fontsize=14);\n",
    "\n",
    "fig.savefig(\"/Users/rluger/Desktop/rank.pdf\", bbox_inches=\"tight\")"
   ]
  },
  {
   "cell_type": "code",
   "execution_count": null,
   "metadata": {},
   "outputs": [],
   "source": []
  }
 ],
 "metadata": {
  "kernelspec": {
   "display_name": "Python 3",
   "language": "python",
   "name": "python3"
  },
  "language_info": {
   "codemirror_mode": {
    "name": "ipython",
    "version": 3
   },
   "file_extension": ".py",
   "mimetype": "text/x-python",
   "name": "python",
   "nbconvert_exporter": "python",
   "pygments_lexer": "ipython3",
   "version": "3.7.4"
  }
 },
 "nbformat": 4,
 "nbformat_minor": 2
}
